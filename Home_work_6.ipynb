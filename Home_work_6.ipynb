{
 "cells": [
  {
   "cell_type": "markdown",
   "metadata": {},
   "source": [
    "### Задание 1: \n",
    "Для реализованной в методичке модели градиентного бустинга построить графики зависимости ошибки от количества деревьев в ансамбле и от максимальной глубины деревьев. Сделать выводы о зависимости ошибки от этих параметров."
   ]
  },
  {
   "cell_type": "code",
   "execution_count": 1,
   "metadata": {},
   "outputs": [],
   "source": [
    "from sklearn.tree import DecisionTreeRegressor\n",
    "\n",
    "from sklearn import model_selection\n",
    "import numpy as np"
   ]
  },
  {
   "cell_type": "code",
   "execution_count": 13,
   "metadata": {},
   "outputs": [],
   "source": [
    "import matplotlib.pyplot as plt"
   ]
  },
  {
   "cell_type": "code",
   "execution_count": 2,
   "metadata": {},
   "outputs": [],
   "source": [
    "from sklearn.datasets import load_diabetes"
   ]
  },
  {
   "cell_type": "code",
   "execution_count": 3,
   "metadata": {},
   "outputs": [],
   "source": [
    "X, y = load_diabetes(return_X_y=True)"
   ]
  },
  {
   "cell_type": "code",
   "execution_count": 4,
   "metadata": {},
   "outputs": [],
   "source": [
    "X_train, X_test, y_train, y_test = model_selection.train_test_split(X, y, test_size=0.25)"
   ]
  },
  {
   "cell_type": "code",
   "execution_count": 5,
   "metadata": {},
   "outputs": [],
   "source": [
    "def gb_predict(X, trees_list, coef_list, eta):\n",
    "    # Реализуемый алгоритм градиентного бустинга будет инициализироваться нулевыми значениями,\n",
    "    # поэтому все деревья из списка trees_list уже являются дополнительными и при предсказании прибавляются с шагом eta\n",
    "    return np.array([sum([eta* coef * alg.predict([x])[0] for alg, coef in zip(trees_list, coef_list)]) for x in X])"
   ]
  },
  {
   "cell_type": "code",
   "execution_count": 6,
   "metadata": {},
   "outputs": [],
   "source": [
    "def mean_squared_error(y_real, prediction):\n",
    "    return (sum((y_real - prediction)**2)) / len(y_real)"
   ]
  },
  {
   "cell_type": "code",
   "execution_count": 7,
   "metadata": {},
   "outputs": [],
   "source": [
    "def bias(y, z):\n",
    "    return (y - z)"
   ]
  },
  {
   "cell_type": "markdown",
   "metadata": {},
   "source": [
    "Немного изменим код из методички, потому что на выходе нам не нужны оценки ошибок по всем итерациям деревьев, а нужна общая оценка по модели"
   ]
  },
  {
   "cell_type": "code",
   "execution_count": 23,
   "metadata": {},
   "outputs": [],
   "source": [
    "def gb_fit(n_trees, max_depth, X_train, X_test, y_train, y_test, coefs, eta):\n",
    "    \n",
    "    # Деревья будем записывать в список\n",
    "    trees = []\n",
    "    \n",
    "    # Будем записывать ошибки на обучающей и тестовой выборке на каждой итерации в список\n",
    "    train_error = float()\n",
    "    test_error = float()\n",
    "    \n",
    "    for i in range(n_trees):\n",
    "        tree = DecisionTreeRegressor(max_depth=max_depth, random_state=42)\n",
    "\n",
    "        # инициализируем бустинг начальным алгоритмом, возвращающим ноль, \n",
    "        # поэтому первый алгоритм просто обучаем на выборке и добавляем в список\n",
    "        if len(trees) == 0:\n",
    "            # обучаем первое дерево на обучающей выборке\n",
    "            tree.fit(X_train, y_train)\n",
    "            \n",
    "        else:\n",
    "            # Получим ответы на текущей композиции\n",
    "            target = gb_predict(X_train, trees, coefs, eta)\n",
    "            \n",
    "            # алгоритмы начиная со второго обучаем на сдвиг\n",
    "            tree.fit(X_train, bias(y_train, target))\n",
    "\n",
    "        trees.append(tree)\n",
    "    \n",
    "    train_error = mean_squared_error(y_train, gb_predict(X_train, trees, coefs, eta))\n",
    "    test_error = mean_squared_error(y_test, gb_predict(X_test, trees, coefs, eta))\n",
    "        \n",
    "    return trees, train_error, test_error"
   ]
  },
  {
   "cell_type": "markdown",
   "metadata": {},
   "source": [
    "Создадим функию для обучения модели и отрисовки графика по настраиваемым гиперпараметрам"
   ]
  },
  {
   "cell_type": "code",
   "execution_count": 58,
   "metadata": {},
   "outputs": [],
   "source": [
    "def estimate_gradient_boost(data: list, coefs=1, eta=1, n_trees=10, max_depth=3):\n",
    "    \n",
    "    if n_trees == \"estimate\":\n",
    "        train_errors = []\n",
    "        test_errors = []\n",
    "        for i in range(0, 200, 25):\n",
    "            coefs = [coefs for coefs in range(i)]\n",
    "            trees, train, test = gb_fit(i, max_depth, data[0], data[1], data[2], data[3], coefs, eta)\n",
    "            train_errors.append(train)\n",
    "            test_errors.append(test)\n",
    "        \n",
    "        plt.xlabel('Trees number')\n",
    "        plt.ylabel('MSE')\n",
    "        plt.xlim(0, 100)\n",
    "        plt.plot(list(range(0, 200, 25)), train_errors, label='train error')\n",
    "        plt.plot(list(range(0, 200, 25)), test_errors, label='test error')\n",
    "        plt.legend(loc='upper right')\n",
    "        plt.show()\n",
    "    \n",
    "    elif max_depth == \"estimate\":\n",
    "        coefs = [coefs] * n_trees\n",
    "        train_errors = []\n",
    "        test_errors = []\n",
    "        for i in range(1, 16):\n",
    "            trees, train, test = gb_fit(n_trees, i, data[0], data[1], data[2], data[3], coefs, eta)\n",
    "            train_errors.append(train)\n",
    "            test_errors.append(test)\n",
    "        \n",
    "        plt.xlabel('Max depth of trees')\n",
    "        plt.ylabel('MSE')\n",
    "        plt.xlim(1, 16)\n",
    "        plt.plot(list(range(1, 16)), train_errors, label='train error')\n",
    "        plt.plot(list(range(1, 16)), test_errors, label='test error')\n",
    "        plt.legend(loc='upper right')\n",
    "        plt.show()\n",
    "        \n",
    "    else:\n",
    "        trees, train, test = gb_fit(n_trees, max_depth, data[0], data[1], data[2], data[3], coefs, eta)\n",
    "        return trees, train, test"
   ]
  },
  {
   "cell_type": "code",
   "execution_count": 35,
   "metadata": {},
   "outputs": [],
   "source": [
    "data = [X_train, X_test, y_train, y_test]"
   ]
  },
  {
   "cell_type": "code",
   "execution_count": null,
   "metadata": {},
   "outputs": [],
   "source": [
    "estimate_gradient_boost(data, coefs=1, eta=0.1, n_trees=\"estimate\", max_depth=3)"
   ]
  },
  {
   "cell_type": "code",
   "execution_count": 52,
   "metadata": {},
   "outputs": [
    {
     "data": {
      "image/png": "[encoded data removed]",
      "text/plain": [
       "<Figure size 432x288 with 1 Axes>"
      ]
     },
     "metadata": {
      "needs_background": "light"
     },
     "output_type": "display_data"
    }
   ],
   "source": [
    "estimate_gradient_boost(data, coefs=1, eta=0.1, n_trees=20, max_depth=\"estimate\")"
   ]
  },
  {
   "cell_type": "markdown",
   "metadata": {},
   "source": [
    "Как видно из графика уеличение глубины деревьев приводит к увеличению переобучения. Судя по графику на этих данных оптимальным будет уровень глубины дерева 3"
   ]
  },
  {
   "cell_type": "code",
   "execution_count": null,
   "metadata": {},
   "outputs": [],
   "source": []
  }
 ],
 "metadata": {
  "kernelspec": {
   "display_name": "Python 3",
   "language": "python",
   "name": "python3"
  },
  "language_info": {
   "codemirror_mode": {
    "name": "ipython",
    "version": 3
   },
   "file_extension": ".py",
   "mimetype": "text/x-python",
   "name": "python",
   "nbconvert_exporter": "python",
   "pygments_lexer": "ipython3",
   "version": "3.8.5"
  }
 },
 "nbformat": 4,
 "nbformat_minor": 4
}
