{
 "cells": [
  {
   "cell_type": "code",
   "execution_count": 1,
   "metadata": {},
   "outputs": [],
   "source": [
    "import numpy as np"
   ]
  },
  {
   "cell_type": "code",
   "execution_count": 2,
   "metadata": {},
   "outputs": [],
   "source": [
    "np.random.seed(42)"
   ]
  },
  {
   "cell_type": "markdown",
   "metadata": {},
   "source": [
    "### задание 1  \n",
    "Измените функцию calc_logloss так, чтобы нули по возможности не попадали в np.log."
   ]
  },
  {
   "cell_type": "code",
   "execution_count": 3,
   "metadata": {},
   "outputs": [],
   "source": [
    "def calc_logloss(y, y_pred):\n",
    "    err = - np.mean(y * np.log(y_pred) + (1.0 - y) * np.log(1.0 - y_pred))\n",
    "    return err"
   ]
  },
  {
   "cell_type": "markdown",
   "metadata": {},
   "source": [
    "Для примера сначала посчитаю на абстрактных данных неизмененную функцию"
   ]
  },
  {
   "cell_type": "code",
   "execution_count": 4,
   "metadata": {},
   "outputs": [
    {
     "data": {
      "text/plain": [
       "array([0, 1, 0, 0, 0, 1, 0, 0, 0, 1, 0, 0, 0, 0, 1, 0, 1, 1, 1, 0, 1, 0,\n",
       "       1, 1, 1, 1, 1, 1, 1, 1, 0, 0, 1, 1, 1, 0, 1, 0, 0, 0, 0, 0, 1, 1,\n",
       "       1, 1, 1, 0, 1, 1])"
      ]
     },
     "execution_count": 4,
     "metadata": {},
     "output_type": "execute_result"
    }
   ],
   "source": [
    "y = np.random.randint(0, 2, 50)\n",
    "y"
   ]
  },
  {
   "cell_type": "code",
   "execution_count": 5,
   "metadata": {},
   "outputs": [
    {
     "data": {
      "text/plain": [
       "array([0.78517596, 0.19967378, 0.51423444, 0.59241457, 0.        ,\n",
       "       0.60754485, 0.17052412, 0.06505159, 0.94888554, 1.        ,\n",
       "       0.80839735, 0.30461377, 0.09767211, 0.68423303, 0.44015249,\n",
       "       0.12203823, 0.49517691, 0.        , 0.9093204 , 0.25877998,\n",
       "       0.66252228, 0.31171108, 0.52006802, 0.54671028, 0.18485446,\n",
       "       1.        , 0.77513282, 0.93949894, 0.89482735, 0.59789998,\n",
       "       0.92187424, 0.0884925 , 0.19598286, 0.        , 0.32533033,\n",
       "       0.38867729, 0.27134903, 0.82873751, 0.35675333, 0.28093451,\n",
       "       0.54269608, 0.14092422, 0.80219698, 0.07455064, 1.        ,\n",
       "       0.77224477, 0.19871568, 0.        , 0.81546143, 0.70685734])"
      ]
     },
     "execution_count": 5,
     "metadata": {},
     "output_type": "execute_result"
    }
   ],
   "source": [
    "y_pred = np.random.rand(50)\n",
    "y_pred = np.where(y_pred < 0.05, 0, y_pred)\n",
    "y_pred = np.where(y_pred > 0.95, 1, y_pred)\n",
    "y_pred"
   ]
  },
  {
   "cell_type": "code",
   "execution_count": 6,
   "metadata": {},
   "outputs": [
    {
     "name": "stderr",
     "output_type": "stream",
     "text": [
      "<ipython-input-3-7d5907c1794a>:2: RuntimeWarning: divide by zero encountered in log\n",
      "  err = - np.mean(y * np.log(y_pred) + (1.0 - y) * np.log(1.0 - y_pred))\n",
      "<ipython-input-3-7d5907c1794a>:2: RuntimeWarning: invalid value encountered in multiply\n",
      "  err = - np.mean(y * np.log(y_pred) + (1.0 - y) * np.log(1.0 - y_pred))\n"
     ]
    },
    {
     "data": {
      "text/plain": [
       "nan"
      ]
     },
     "execution_count": 6,
     "metadata": {},
     "output_type": "execute_result"
    }
   ],
   "source": [
    "calc_logloss(y, y_pred)"
   ]
  },
  {
   "cell_type": "markdown",
   "metadata": {},
   "source": [
    "Ну очевидным решением будет замена нуля на число близкое к нулю, например, 0.00001. Можно использовать метод where"
   ]
  },
  {
   "cell_type": "code",
   "execution_count": 7,
   "metadata": {},
   "outputs": [],
   "source": [
    "def calc_logloss(y, y_pred):\n",
    "    y_pred = np.where(y_pred == 0, 0.00001, y_pred)\n",
    "    y_pred = np.where(y_pred == 1, 0.99999, y_pred)\n",
    "    err = - np.mean(y * np.log(y_pred) + (1.0 - y) * np.log(1.0 - y_pred))\n",
    "    return err"
   ]
  },
  {
   "cell_type": "code",
   "execution_count": 8,
   "metadata": {},
   "outputs": [
    {
     "data": {
      "text/plain": [
       "1.1483333926636308"
      ]
     },
     "execution_count": 8,
     "metadata": {},
     "output_type": "execute_result"
    }
   ],
   "source": [
    "calc_logloss(y, y_pred)"
   ]
  },
  {
   "cell_type": "markdown",
   "metadata": {},
   "source": [
    "Ну немного синтетический пример получился))потому что сначала я синтетически делал нули и единицы в массиве предсказаний, а затем из обратно убирал, но вроде такой подход работает"
   ]
  },
  {
   "cell_type": "markdown",
   "metadata": {},
   "source": [
    "### задание 2\n",
    "Подберите аргументы функции eval_model для логистической регрессии таким образом, чтобы log loss был минимальным."
   ]
  },
  {
   "cell_type": "code",
   "execution_count": 9,
   "metadata": {},
   "outputs": [],
   "source": [
    "X = np.array([[1, 1, 1, 1, 1, 1, 1, 1, 1, 1],\n",
    "              [1, 1, 2, 1, 3, 0, 5, 10, 1, 2],\n",
    "              [500, 700, 750, 600, 1450, 800, 1500, 2000, 450, 1000],\n",
    "              [1, 1, 2, 1, 2, 1, 3, 3, 1, 2]], dtype = np.float64)\n",
    "\n",
    "y = np.array([0, 0, 1, 0, 1, 0, 1, 0, 1, 1], dtype = np.float64)"
   ]
  },
  {
   "cell_type": "code",
   "execution_count": 10,
   "metadata": {},
   "outputs": [],
   "source": [
    "def sigmoid(z):\n",
    "    res = 1 / (1 + np.exp(-z))\n",
    "    return res"
   ]
  },
  {
   "cell_type": "code",
   "execution_count": 11,
   "metadata": {},
   "outputs": [],
   "source": [
    "def calc_logloss(y, y_pred):\n",
    "    y_pred = np.where(y_pred == 0, 0.00001, y_pred)\n",
    "    y_pred = np.where(y_pred == 1, 0.99999, y_pred)\n",
    "    err = - np.mean(y * np.log(y_pred) + (1.0 - y) * np.log(1.0 - y_pred))\n",
    "    return err"
   ]
  },
  {
   "cell_type": "markdown",
   "metadata": {},
   "source": [
    "Немного изменил алгоритм из того что был на лекции"
   ]
  },
  {
   "cell_type": "code",
   "execution_count": 12,
   "metadata": {},
   "outputs": [],
   "source": [
    "def eval_model_2(X, y, stop_loss=0.0001, max_iter=1000, alpha=1e-5):\n",
    "    np.random.seed(42)\n",
    "    W = np.random.randn(X.shape[0])\n",
    "    n = X.shape[1]\n",
    "    #  first loop for initializing\n",
    "    z = np.dot(W, X)\n",
    "    y_pred = sigmoid(z)\n",
    "    err = calc_logloss(y, y_pred)\n",
    "    best_model = {\"coefficients\": W, \"error\": err}\n",
    "    iterations = 1\n",
    "\n",
    "    while (err > stop_loss) and (iterations != (max_iter + 1)):\n",
    "        W -= alpha * (1/n * np.dot((y_pred - y), X.T))\n",
    "        z = np.dot(W, X)\n",
    "        y_pred = sigmoid(z)\n",
    "        err = calc_logloss(y, y_pred)\n",
    "        if err < best_model[\"error\"]:\n",
    "            best_model = {\"coefficients\": W, \"error\": err}\n",
    "        if (iterations % 100) == 0:\n",
    "            print(f\"Number of iterations {iterations} estimated error {err}\")\n",
    "        iterations += 1\n",
    "    return best_model"
   ]
  },
  {
   "cell_type": "code",
   "execution_count": 13,
   "metadata": {},
   "outputs": [
    {
     "name": "stdout",
     "output_type": "stream",
     "text": [
      "Number of iterations 100 estimated error 5.756467732512389\n",
      "Number of iterations 200 estimated error 0.9091845102102731\n",
      "Number of iterations 300 estimated error 0.9091673359274953\n",
      "Number of iterations 400 estimated error 0.9091501617080537\n",
      "Number of iterations 500 estimated error 0.9091329875524995\n",
      "Number of iterations 600 estimated error 0.9091158134613841\n",
      "Number of iterations 700 estimated error 0.9090986394352594\n",
      "Number of iterations 800 estimated error 0.9090814654746753\n",
      "Number of iterations 900 estimated error 0.9090642915801832\n",
      "Number of iterations 1000 estimated error 0.9090471177523316\n"
     ]
    }
   ],
   "source": [
    "best_model = eval_model_2(X, y)"
   ]
  },
  {
   "cell_type": "code",
   "execution_count": 14,
   "metadata": {},
   "outputs": [
    {
     "data": {
      "text/plain": [
       "array([ 0.49550009, -0.1403574 , -0.00414953,  1.52264613])"
      ]
     },
     "execution_count": 14,
     "metadata": {},
     "output_type": "execute_result"
    }
   ],
   "source": [
    "best_model[\"coefficients\"]"
   ]
  },
  {
   "cell_type": "markdown",
   "metadata": {},
   "source": [
    "### задание 3  \n",
    "Создайте функцию calc_pred_proba, возвращающую предсказанную вероятность класса 1 (на вход подаются W, который уже посчитан функцией eval_model и X, на выходе - массив y_pred_proba)."
   ]
  },
  {
   "cell_type": "code",
   "execution_count": 15,
   "metadata": {},
   "outputs": [],
   "source": [
    "def calc_pred_proba(W, X):\n",
    "    z = np.dot(W, X)\n",
    "    return sigmoid(z)"
   ]
  },
  {
   "cell_type": "code",
   "execution_count": 16,
   "metadata": {},
   "outputs": [
    {
     "data": {
      "text/plain": [
       "array([0.45091443, 0.26368886, 0.53691502, 0.3516191 , 0.05229711,\n",
       "       0.21391627, 0.13439504, 0.00957292, 0.50262493, 0.29122261])"
      ]
     },
     "execution_count": 16,
     "metadata": {},
     "output_type": "execute_result"
    }
   ],
   "source": [
    "calc_pred_proba(best_model[\"coefficients\"], X)"
   ]
  },
  {
   "cell_type": "markdown",
   "metadata": {},
   "source": [
    "### задание 4 \n",
    "Создайте функцию calc_pred, возвращающую предсказанный класс (на вход подаются W, который уже посчитан функцией eval_model и X, на выходе - массив y_pred)."
   ]
  },
  {
   "cell_type": "code",
   "execution_count": 17,
   "metadata": {},
   "outputs": [],
   "source": [
    "def calc_pred(W, X, threshold=0.5):\n",
    "    out = calc_pred_proba(W, X)\n",
    "    return np.where(out > threshold, 1, 0)"
   ]
  },
  {
   "cell_type": "code",
   "execution_count": 18,
   "metadata": {},
   "outputs": [
    {
     "data": {
      "text/plain": [
       "array([0, 0, 1, 0, 0, 0, 0, 0, 1, 0])"
      ]
     },
     "execution_count": 18,
     "metadata": {},
     "output_type": "execute_result"
    }
   ],
   "source": [
    "calc_pred(best_model[\"coefficients\"], X)"
   ]
  },
  {
   "cell_type": "code",
   "execution_count": 19,
   "metadata": {},
   "outputs": [
    {
     "data": {
      "text/plain": [
       "array([0., 0., 1., 0., 1., 0., 1., 0., 1., 1.])"
      ]
     },
     "execution_count": 19,
     "metadata": {},
     "output_type": "execute_result"
    }
   ],
   "source": [
    "y"
   ]
  },
  {
   "cell_type": "markdown",
   "metadata": {},
   "source": [
    "### задание 5\n",
    "Посчитайте Accuracy, матрицу ошибок, точность и полноту, а также F1 score."
   ]
  },
  {
   "cell_type": "code",
   "execution_count": 20,
   "metadata": {},
   "outputs": [],
   "source": [
    "y_pred = calc_pred(best_model[\"coefficients\"], X)"
   ]
  },
  {
   "cell_type": "code",
   "execution_count": 21,
   "metadata": {},
   "outputs": [],
   "source": [
    "def calculate_all(y, y_pred):\n",
    "    import pandas as pd\n",
    "    TN = np.sum((y == 0) * (y_pred == 0))\n",
    "    TP = np.sum((y == 1) * (y_pred == 1))\n",
    "    FN = np.sum((y == 1) * (y_pred == 0))\n",
    "    FP = np.sum((y == 0) * (y_pred == 1))\n",
    "    accuracy = (TP + TN) / y.shape[0]\n",
    "    precision = TP / (TP + FP)\n",
    "    recall = TP / (TP + FN)\n",
    "    f1_score = (2 * precision * recall) / (precision + recall)\n",
    "    matrix_of_errs = pd.DataFrame([[TN, FN], [FP, TP]], columns=[\"y=0\", \"y=1\"], index=[\"y_pred=0\", \"y_pred=1\"])\n",
    "    return matrix_of_errs, f\"accuracy={accuracy}\", f\"prercision={precision}\", f\"recall={recall}\", f\"F1-score={f1_score}\""
   ]
  },
  {
   "cell_type": "code",
   "execution_count": 22,
   "metadata": {},
   "outputs": [
    {
     "data": {
      "text/plain": [
       "(          y=0  y=1\n",
       " y_pred=0    5    3\n",
       " y_pred=1    0    2,\n",
       " 'accuracy=0.7',\n",
       " 'prercision=1.0',\n",
       " 'recall=0.4',\n",
       " 'F1-score=0.5714285714285715')"
      ]
     },
     "execution_count": 22,
     "metadata": {},
     "output_type": "execute_result"
    }
   ],
   "source": [
    "calculate_all(y, y_pred)"
   ]
  },
  {
   "cell_type": "code",
   "execution_count": 23,
   "metadata": {},
   "outputs": [
    {
     "data": {
      "text/plain": [
       "10"
      ]
     },
     "execution_count": 23,
     "metadata": {},
     "output_type": "execute_result"
    }
   ],
   "source": [
    "y.shape[0]"
   ]
  },
  {
   "cell_type": "code",
   "execution_count": 24,
   "metadata": {},
   "outputs": [
    {
     "data": {
      "text/plain": [
       "0"
      ]
     },
     "execution_count": 24,
     "metadata": {},
     "output_type": "execute_result"
    }
   ],
   "source": [
    "np.sum((y == 0) * (y_pred == 1))"
   ]
  },
  {
   "cell_type": "code",
   "execution_count": 25,
   "metadata": {},
   "outputs": [
    {
     "data": {
      "text/plain": [
       "3"
      ]
     },
     "execution_count": 25,
     "metadata": {},
     "output_type": "execute_result"
    }
   ],
   "source": [
    "np.sum((y == 1) * (y_pred == 0))"
   ]
  },
  {
   "cell_type": "code",
   "execution_count": 26,
   "metadata": {},
   "outputs": [
    {
     "data": {
      "text/plain": [
       "2"
      ]
     },
     "execution_count": 26,
     "metadata": {},
     "output_type": "execute_result"
    }
   ],
   "source": [
    "np.sum((y == 1) * (y_pred == 1))"
   ]
  },
  {
   "cell_type": "markdown",
   "metadata": {},
   "source": [
    "### задание 6\n",
    "Могла ли модель переобучиться? Почему?"
   ]
  },
  {
   "attachments": {
    "image.png": {
     "image/png": "[encoded data removed]"
    }
   },
   "cell_type": "markdown",
   "metadata": {},
   "source": [
    "В цикле обучения остановка происходит либо когда ошибка достигает нижней границы, либо когда количество итераций превышает определенное число (в нашем случае 1000) из лога функции видно, что наилучшая оценка достигается на промежутке между 100 и 200 итерацией![image.png](attachment:image.png)  \n",
    "На мой взгляд переобучения в принципе не может произойти на линейных моделях (когда мы используем только одну линейную модель) поскольку она дает только одну разделяющую гиперплоскость, и эффекта переобучения в принципе не может наступить, потому что вариативность принятия решений ограничена этой плоскостью. Насколько я могу объяснить на пальцах, что эффект переобучения достигается когда модель просто запоминает обучающие данные, а в случае с одной линейной моделью мне кажется в принципе это сделать невозможно....исключая случай когда все эти данные будут просто лежать на прямой/плоскости.  \n",
    "\n",
    "Я скачал с кагла датасет по поводу предсказаний подходящего репетитора....попробую обучить модель на этих данных и посмотреть какие ошибки она будет давать на обучающей и тестовой выборке."
   ]
  },
  {
   "cell_type": "code",
   "execution_count": 27,
   "metadata": {},
   "outputs": [],
   "source": [
    "import pandas as pd\n",
    "from sklearn.model_selection import train_test_split\n",
    "import matplotlib.pyplot as plt\n",
    "from pylab import rcParams\n",
    "rcParams[\"figure.figsize\"] = 10, 5"
   ]
  },
  {
   "cell_type": "code",
   "execution_count": 28,
   "metadata": {},
   "outputs": [],
   "source": [
    "df = pd.read_csv(\"train.csv\")"
   ]
  },
  {
   "cell_type": "code",
   "execution_count": 29,
   "metadata": {},
   "outputs": [
    {
     "data": {
      "text/html": [
       "<div>\n",
       "<style scoped>\n",
       "    .dataframe tbody tr th:only-of-type {\n",
       "        vertical-align: middle;\n",
       "    }\n",
       "\n",
       "    .dataframe tbody tr th {\n",
       "        vertical-align: top;\n",
       "    }\n",
       "\n",
       "    .dataframe thead th {\n",
       "        text-align: right;\n",
       "    }\n",
       "</style>\n",
       "<table border=\"1\" class=\"dataframe\">\n",
       "  <thead>\n",
       "    <tr style=\"text-align: right;\">\n",
       "      <th></th>\n",
       "      <th>Id</th>\n",
       "      <th>age</th>\n",
       "      <th>years_of_experience</th>\n",
       "      <th>lesson_price</th>\n",
       "      <th>qualification</th>\n",
       "      <th>physics</th>\n",
       "      <th>chemistry</th>\n",
       "      <th>biology</th>\n",
       "      <th>english</th>\n",
       "      <th>geography</th>\n",
       "      <th>history</th>\n",
       "      <th>mean_exam_points</th>\n",
       "      <th>choose</th>\n",
       "    </tr>\n",
       "  </thead>\n",
       "  <tbody>\n",
       "    <tr>\n",
       "      <th>0</th>\n",
       "      <td>0</td>\n",
       "      <td>35.0</td>\n",
       "      <td>0.0</td>\n",
       "      <td>2150.0</td>\n",
       "      <td>2.0</td>\n",
       "      <td>0.0</td>\n",
       "      <td>0.0</td>\n",
       "      <td>0.0</td>\n",
       "      <td>0.0</td>\n",
       "      <td>0.0</td>\n",
       "      <td>0.0</td>\n",
       "      <td>74.0</td>\n",
       "      <td>0</td>\n",
       "    </tr>\n",
       "    <tr>\n",
       "      <th>1</th>\n",
       "      <td>1</td>\n",
       "      <td>52.0</td>\n",
       "      <td>2.0</td>\n",
       "      <td>1250.0</td>\n",
       "      <td>2.0</td>\n",
       "      <td>1.0</td>\n",
       "      <td>0.0</td>\n",
       "      <td>1.0</td>\n",
       "      <td>0.0</td>\n",
       "      <td>0.0</td>\n",
       "      <td>1.0</td>\n",
       "      <td>57.0</td>\n",
       "      <td>1</td>\n",
       "    </tr>\n",
       "    <tr>\n",
       "      <th>2</th>\n",
       "      <td>2</td>\n",
       "      <td>29.0</td>\n",
       "      <td>3.0</td>\n",
       "      <td>1750.0</td>\n",
       "      <td>1.0</td>\n",
       "      <td>1.0</td>\n",
       "      <td>0.0</td>\n",
       "      <td>0.0</td>\n",
       "      <td>0.0</td>\n",
       "      <td>0.0</td>\n",
       "      <td>0.0</td>\n",
       "      <td>66.0</td>\n",
       "      <td>0</td>\n",
       "    </tr>\n",
       "    <tr>\n",
       "      <th>3</th>\n",
       "      <td>3</td>\n",
       "      <td>33.0</td>\n",
       "      <td>3.0</td>\n",
       "      <td>1050.0</td>\n",
       "      <td>1.0</td>\n",
       "      <td>0.0</td>\n",
       "      <td>0.0</td>\n",
       "      <td>0.0</td>\n",
       "      <td>0.0</td>\n",
       "      <td>0.0</td>\n",
       "      <td>0.0</td>\n",
       "      <td>66.0</td>\n",
       "      <td>1</td>\n",
       "    </tr>\n",
       "    <tr>\n",
       "      <th>4</th>\n",
       "      <td>4</td>\n",
       "      <td>46.0</td>\n",
       "      <td>3.0</td>\n",
       "      <td>2250.0</td>\n",
       "      <td>2.0</td>\n",
       "      <td>1.0</td>\n",
       "      <td>0.0</td>\n",
       "      <td>0.0</td>\n",
       "      <td>0.0</td>\n",
       "      <td>0.0</td>\n",
       "      <td>0.0</td>\n",
       "      <td>73.0</td>\n",
       "      <td>0</td>\n",
       "    </tr>\n",
       "  </tbody>\n",
       "</table>\n",
       "</div>"
      ],
      "text/plain": [
       "   Id   age  years_of_experience  lesson_price  qualification  physics  \\\n",
       "0   0  35.0                  0.0        2150.0            2.0      0.0   \n",
       "1   1  52.0                  2.0        1250.0            2.0      1.0   \n",
       "2   2  29.0                  3.0        1750.0            1.0      1.0   \n",
       "3   3  33.0                  3.0        1050.0            1.0      0.0   \n",
       "4   4  46.0                  3.0        2250.0            2.0      1.0   \n",
       "\n",
       "   chemistry  biology  english  geography  history  mean_exam_points  choose  \n",
       "0        0.0      0.0      0.0        0.0      0.0              74.0       0  \n",
       "1        0.0      1.0      0.0        0.0      1.0              57.0       1  \n",
       "2        0.0      0.0      0.0        0.0      0.0              66.0       0  \n",
       "3        0.0      0.0      0.0        0.0      0.0              66.0       1  \n",
       "4        0.0      0.0      0.0        0.0      0.0              73.0       0  "
      ]
     },
     "execution_count": 29,
     "metadata": {},
     "output_type": "execute_result"
    }
   ],
   "source": [
    "df.head()"
   ]
  },
  {
   "cell_type": "code",
   "execution_count": 30,
   "metadata": {},
   "outputs": [],
   "source": [
    "X = df.loc[:, \"age\": \"mean_exam_points\"]\n",
    "y = df.loc[:, \"choose\"]"
   ]
  },
  {
   "cell_type": "code",
   "execution_count": 31,
   "metadata": {},
   "outputs": [],
   "source": [
    "X_train, X_test, y_train, y_test = train_test_split(X, y, test_size=0.3, random_state=42)"
   ]
  },
  {
   "cell_type": "markdown",
   "metadata": {},
   "source": [
    "Придется немного изменить функции, чтобы они выдали массив ошибок на обучающей выборке и на тестовой выборке"
   ]
  },
  {
   "cell_type": "code",
   "execution_count": 32,
   "metadata": {},
   "outputs": [],
   "source": [
    "def eval_model_3(X_train, X_test, y_train, y_test, stop_loss=0.0001, max_iter=1000, alpha=1e-5):\n",
    "    np.random.seed(42)\n",
    "    W = np.random.randn(X_train.shape[0])\n",
    "    n = X_train.shape[1]\n",
    "    #  first loop for initializing\n",
    "    z = np.dot(W, X_train)\n",
    "    y_pred_train = sigmoid(z)\n",
    "    err_train = calc_logloss(y_train, y_pred_train)\n",
    "    best_model = {\"coefficients\": W, \"error\": err_train}\n",
    "    iterations = 1\n",
    "    list_of_train_erros = [err_train]\n",
    "    print(f\"Number of iterations {iterations} estimated error {err_train}\")\n",
    "    \n",
    "    # estimate on test_data\n",
    "    z_test = np.dot(W, X_test)    \n",
    "    y_pred_test = sigmoid(z_test)\n",
    "    err_test = calc_logloss(y_test, y_pred_test)\n",
    "    list_of_test_erros = [err_test]\n",
    "    \n",
    "    while (err_train > stop_loss) and (iterations != (max_iter + 1)):\n",
    "        W -= alpha * (1/n * np.dot((y_pred_train - y_train), X_train.T))\n",
    "        z = np.dot(W, X_train)\n",
    "        y_pred_train = sigmoid(z)\n",
    "        err_train = calc_logloss(y_train, y_pred_train)\n",
    "        if err_train < best_model[\"error\"]:\n",
    "            best_model = {\"coefficients\": W, \"error\": err_train}\n",
    "        if (iterations % 100) == 0:\n",
    "            print(f\"Number of iterations {iterations} estimated error {err_train}\")\n",
    "        iterations += 1\n",
    "        list_of_train_erros.append(err_train)\n",
    "        \n",
    "        # estimate on test_data\n",
    "        z_test = np.dot(W, X_test)    \n",
    "        y_pred_test = sigmoid(z_test)\n",
    "        err_test = calc_logloss(y_test, y_pred_test)\n",
    "        list_of_test_erros.append(err_test)\n",
    "        \n",
    "    return best_model, list_of_train_erros, list_of_test_erros"
   ]
  },
  {
   "cell_type": "code",
   "execution_count": 33,
   "metadata": {},
   "outputs": [
    {
     "name": "stdout",
     "output_type": "stream",
     "text": [
      "Number of iterations 1 estimated error 10.254728274879433\n",
      "Number of iterations 100 estimated error 1.5098927245134546\n",
      "Number of iterations 200 estimated error 1.504681317901311\n",
      "Number of iterations 300 estimated error 1.4994796210301875\n",
      "Number of iterations 400 estimated error 1.4942876110951115\n",
      "Number of iterations 500 estimated error 1.4891052652912242\n",
      "Number of iterations 600 estimated error 1.4839325607994531\n",
      "Number of iterations 700 estimated error 1.478769474771936\n",
      "Number of iterations 800 estimated error 1.4736159843183554\n",
      "Number of iterations 900 estimated error 1.4684720664927429\n",
      "Number of iterations 1000 estimated error 1.4633376982810031\n"
     ]
    }
   ],
   "source": [
    "best_model_2, train_errs, test_errs = eval_model_3(X_train.to_numpy().T, \n",
    "                                                   X_test.to_numpy().T, \n",
    "                                                   y_train.to_numpy(), \n",
    "                                                   y_test.to_numpy())"
   ]
  },
  {
   "cell_type": "code",
   "execution_count": 34,
   "metadata": {},
   "outputs": [
    {
     "data": {
      "text/plain": [
       "{'coefficients': array([ 4.68663972e-01, -1.38712845e-01, -1.54641421e-03,  1.52295705e+00,\n",
       "        -2.33871536e-01, -2.34050627e-01,  1.57922264e+00,  7.67420023e-01,\n",
       "        -4.69485683e-01,  5.42551955e-01, -4.68531045e-01]),\n",
       " 'error': 1.4633376982810031}"
      ]
     },
     "execution_count": 34,
     "metadata": {},
     "output_type": "execute_result"
    }
   ],
   "source": [
    "best_model_2"
   ]
  },
  {
   "cell_type": "code",
   "execution_count": 35,
   "metadata": {},
   "outputs": [
    {
     "data": {
      "text/plain": [
       "<matplotlib.legend.Legend at 0x1b751662580>"
      ]
     },
     "execution_count": 35,
     "metadata": {},
     "output_type": "execute_result"
    },
    {
     "data": {
      "image/png": "[encoded data removed]",
      "text/plain": [
       "<Figure size 720x360 with 1 Axes>"
      ]
     },
     "metadata": {
      "needs_background": "light"
     },
     "output_type": "display_data"
    }
   ],
   "source": [
    "plt.plot(train_errs, label=\"train\")\n",
    "plt.plot(test_errs, label=\"test\")\n",
    "plt.legend()"
   ]
  },
  {
   "cell_type": "markdown",
   "metadata": {},
   "source": [
    "на графике особо ничего не видно, поэтому приблизим ту часть, где графики умньшаются до определенной точки"
   ]
  },
  {
   "cell_type": "code",
   "execution_count": 36,
   "metadata": {},
   "outputs": [
    {
     "data": {
      "text/plain": [
       "(0.0, 5.0)"
      ]
     },
     "execution_count": 36,
     "metadata": {},
     "output_type": "execute_result"
    },
    {
     "data": {
      "image/png": "[encoded data removed]",
      "text/plain": [
       "<Figure size 720x360 with 1 Axes>"
      ]
     },
     "metadata": {
      "needs_background": "light"
     },
     "output_type": "display_data"
    }
   ],
   "source": [
    "plt.plot(train_errs, label=\"train\")\n",
    "plt.plot(test_errs, label=\"test\")\n",
    "plt.legend()\n",
    "plt.xlim(35, 50)\n",
    "plt.ylim(0, 5)"
   ]
  },
  {
   "cell_type": "markdown",
   "metadata": {},
   "source": [
    "В принципе на графике этом и на графике чуть выше видно, что на 43 иитерации достигается минимум по ошибке на обучающей выборке и в дальнейшем она не меняется. Таже ситуация с тестовой выборкой, при этом после 43 итерации не проиходит больше какого-то движения оценок. А в случае переобучения, модель давала бы с каждой итерацией (после 43) меньшую ошбику на обучающей выборке, но большую....или примерно такую же как и на прошлой итерации ошибку на тестовой выборке"
   ]
  },
  {
   "cell_type": "code",
   "execution_count": null,
   "metadata": {},
   "outputs": [],
   "source": []
  }
 ],
 "metadata": {
  "kernelspec": {
   "display_name": "Python 3",
   "language": "python",
   "name": "python3"
  },
  "language_info": {
   "codemirror_mode": {
    "name": "ipython",
    "version": 3
   },
   "file_extension": ".py",
   "mimetype": "text/x-python",
   "name": "python",
   "nbconvert_exporter": "python",
   "pygments_lexer": "ipython3",
   "version": "3.8.5"
  }
 },
 "nbformat": 4,
 "nbformat_minor": 4
}
